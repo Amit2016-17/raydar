{
 "cells": [
  {
   "cell_type": "markdown",
   "metadata": {},
   "source": [
    "# Algorithm prototyping"
   ]
  },
  {
   "cell_type": "code",
   "execution_count": 50,
   "metadata": {},
   "outputs": [],
   "source": [
    "import pandas as pd\n",
    "import matplotlib.pyplot as plt\n",
    "import geopandas as gpd\n",
    "import shapely as sh\n",
    "import shapely.geometry as shg\n",
    "import shapely.ops as sho"
   ]
  },
  {
   "cell_type": "code",
   "execution_count": 21,
   "metadata": {},
   "outputs": [],
   "source": [
    "import pyproj\n",
    "from pyproj import CRS, Transformer"
   ]
  },
  {
   "cell_type": "code",
   "execution_count": 22,
   "metadata": {},
   "outputs": [],
   "source": [
    "%matplotlib inline"
   ]
  },
  {
   "cell_type": "markdown",
   "metadata": {},
   "source": [
    "## Helper functions"
   ]
  },
  {
   "cell_type": "code",
   "execution_count": 39,
   "metadata": {},
   "outputs": [],
   "source": [
    "crs_4326 = CRS.from_epsg(4326) # WGS84\n",
    "crs_25832 = CRS.from_epsg(25832) # ETRS89 / UTM zone 32N\n",
    "to_wgs_84_transformer = Transformer.from_crs(crs_25832, crs_4326)\n",
    "to_utm_transformer = Transformer.from_crs(crs_4326, crs_25832)"
   ]
  },
  {
   "cell_type": "code",
   "execution_count": 23,
   "metadata": {},
   "outputs": [],
   "source": [
    "df = pd.read_csv(\"data\\extracted\\dom1l-fp_32349_5660_1_nw.csv\")"
   ]
  },
  {
   "cell_type": "code",
   "execution_count": 25,
   "metadata": {},
   "outputs": [],
   "source": [
    "df = gpd.GeoDataFrame(df)"
   ]
  },
  {
   "cell_type": "code",
   "execution_count": 26,
   "metadata": {},
   "outputs": [
    {
     "data": {
      "text/html": [
       "<div>\n",
       "<style scoped>\n",
       "    .dataframe tbody tr th:only-of-type {\n",
       "        vertical-align: middle;\n",
       "    }\n",
       "\n",
       "    .dataframe tbody tr th {\n",
       "        vertical-align: top;\n",
       "    }\n",
       "\n",
       "    .dataframe thead th {\n",
       "        text-align: right;\n",
       "    }\n",
       "</style>\n",
       "<table border=\"1\" class=\"dataframe\">\n",
       "  <thead>\n",
       "    <tr style=\"text-align: right;\">\n",
       "      <th></th>\n",
       "      <th>x</th>\n",
       "      <th>y</th>\n",
       "      <th>z</th>\n",
       "      <th>lat</th>\n",
       "      <th>lon</th>\n",
       "    </tr>\n",
       "  </thead>\n",
       "  <tbody>\n",
       "    <tr>\n",
       "      <th>0</th>\n",
       "      <td>349000.0</td>\n",
       "      <td>5660017.01</td>\n",
       "      <td>43.84</td>\n",
       "      <td>51.071779</td>\n",
       "      <td>6.844637</td>\n",
       "    </tr>\n",
       "    <tr>\n",
       "      <th>1</th>\n",
       "      <td>349000.0</td>\n",
       "      <td>5660019.82</td>\n",
       "      <td>50.58</td>\n",
       "      <td>51.071805</td>\n",
       "      <td>6.844636</td>\n",
       "    </tr>\n",
       "    <tr>\n",
       "      <th>2</th>\n",
       "      <td>349000.0</td>\n",
       "      <td>5660034.90</td>\n",
       "      <td>60.41</td>\n",
       "      <td>51.071940</td>\n",
       "      <td>6.844630</td>\n",
       "    </tr>\n",
       "    <tr>\n",
       "      <th>3</th>\n",
       "      <td>349000.0</td>\n",
       "      <td>5660057.71</td>\n",
       "      <td>43.85</td>\n",
       "      <td>51.072145</td>\n",
       "      <td>6.844620</td>\n",
       "    </tr>\n",
       "    <tr>\n",
       "      <th>4</th>\n",
       "      <td>349000.0</td>\n",
       "      <td>5660058.17</td>\n",
       "      <td>43.83</td>\n",
       "      <td>51.072149</td>\n",
       "      <td>6.844620</td>\n",
       "    </tr>\n",
       "  </tbody>\n",
       "</table>\n",
       "</div>"
      ],
      "text/plain": [
       "          x           y      z        lat       lon\n",
       "0  349000.0  5660017.01  43.84  51.071779  6.844637\n",
       "1  349000.0  5660019.82  50.58  51.071805  6.844636\n",
       "2  349000.0  5660034.90  60.41  51.071940  6.844630\n",
       "3  349000.0  5660057.71  43.85  51.072145  6.844620\n",
       "4  349000.0  5660058.17  43.83  51.072149  6.844620"
      ]
     },
     "execution_count": 26,
     "metadata": {},
     "output_type": "execute_result"
    }
   ],
   "source": [
    "df.head()"
   ]
  },
  {
   "cell_type": "code",
   "execution_count": 51,
   "metadata": {},
   "outputs": [],
   "source": [
    "# creating a geometry column \n",
    "geometry = [sh.geometry.Point(xy) for xy in zip(df['lat'], df['lon'])]\n",
    "\n",
    "# Coordinate reference system : WGS84\n",
    "crs = {'init': 'epsg:4326'}"
   ]
  },
  {
   "cell_type": "code",
   "execution_count": 52,
   "metadata": {},
   "outputs": [],
   "source": [
    "# Creating a Geographic data frame \n",
    "gdf = gpd.GeoDataFrame(df[[\"x\", \"y\", \"z\"]], crs=crs, geometry=geometry)"
   ]
  },
  {
   "cell_type": "code",
   "execution_count": 53,
   "metadata": {},
   "outputs": [
    {
     "data": {
      "text/html": [
       "<div>\n",
       "<style scoped>\n",
       "    .dataframe tbody tr th:only-of-type {\n",
       "        vertical-align: middle;\n",
       "    }\n",
       "\n",
       "    .dataframe tbody tr th {\n",
       "        vertical-align: top;\n",
       "    }\n",
       "\n",
       "    .dataframe thead th {\n",
       "        text-align: right;\n",
       "    }\n",
       "</style>\n",
       "<table border=\"1\" class=\"dataframe\">\n",
       "  <thead>\n",
       "    <tr style=\"text-align: right;\">\n",
       "      <th></th>\n",
       "      <th>x</th>\n",
       "      <th>y</th>\n",
       "      <th>z</th>\n",
       "      <th>geometry</th>\n",
       "    </tr>\n",
       "  </thead>\n",
       "  <tbody>\n",
       "    <tr>\n",
       "      <th>0</th>\n",
       "      <td>349000.0</td>\n",
       "      <td>5660017.01</td>\n",
       "      <td>43.84</td>\n",
       "      <td>POINT (51.07177938107652 6.844637251506098)</td>\n",
       "    </tr>\n",
       "    <tr>\n",
       "      <th>1</th>\n",
       "      <td>349000.0</td>\n",
       "      <td>5660019.82</td>\n",
       "      <td>50.58</td>\n",
       "      <td>POINT (51.07180463179429 6.844636078050016)</td>\n",
       "    </tr>\n",
       "    <tr>\n",
       "      <th>2</th>\n",
       "      <td>349000.0</td>\n",
       "      <td>5660034.90</td>\n",
       "      <td>60.41</td>\n",
       "      <td>POINT (51.07194014098206 6.844629780612612)</td>\n",
       "    </tr>\n",
       "    <tr>\n",
       "      <th>3</th>\n",
       "      <td>349000.0</td>\n",
       "      <td>5660057.71</td>\n",
       "      <td>43.85</td>\n",
       "      <td>POINT (51.07214511210054 6.844620255019381)</td>\n",
       "    </tr>\n",
       "    <tr>\n",
       "      <th>4</th>\n",
       "      <td>349000.0</td>\n",
       "      <td>5660058.17</td>\n",
       "      <td>43.83</td>\n",
       "      <td>POINT (51.07214924566969 6.844620062919464)</td>\n",
       "    </tr>\n",
       "  </tbody>\n",
       "</table>\n",
       "</div>"
      ],
      "text/plain": [
       "          x           y      z                                     geometry\n",
       "0  349000.0  5660017.01  43.84  POINT (51.07177938107652 6.844637251506098)\n",
       "1  349000.0  5660019.82  50.58  POINT (51.07180463179429 6.844636078050016)\n",
       "2  349000.0  5660034.90  60.41  POINT (51.07194014098206 6.844629780612612)\n",
       "3  349000.0  5660057.71  43.85  POINT (51.07214511210054 6.844620255019381)\n",
       "4  349000.0  5660058.17  43.83  POINT (51.07214924566969 6.844620062919464)"
      ]
     },
     "execution_count": 53,
     "metadata": {},
     "output_type": "execute_result"
    }
   ],
   "source": [
    "gdf.head()"
   ]
  },
  {
   "cell_type": "code",
   "execution_count": 54,
   "metadata": {},
   "outputs": [],
   "source": [
    "lat_q, lon_q = 51.078534, 6.844748\n",
    "query_point = shg.Point(lat_q, lon_q)"
   ]
  },
  {
   "cell_type": "code",
   "execution_count": 56,
   "metadata": {},
   "outputs": [],
   "source": [
    "# filter to 200m around query point first\n",
    "R = 100\n",
    "query_point_xy = shg.Point(to_utm_transformer.transform(lon_q, lat_q))\n",
    "query_region_xy = query_point_xy.buffer(R)\n",
    "query_region_wgs84 = sho.transform(to_wgs_84_transformer.transform, query_region_xy)"
   ]
  },
  {
   "cell_type": "code",
   "execution_count": 57,
   "metadata": {},
   "outputs": [
    {
     "data": {
      "image/svg+xml": [
       "<svg xmlns=\"http://www.w3.org/2000/svg\" xmlns:xlink=\"http://www.w3.org/1999/xlink\" width=\"100.0\" height=\"100.0\" viewBox=\"6.844020570531587 51.07780620894991 0.0014548595595309521 0.0014555750143117052\" preserveAspectRatio=\"xMinYMin meet\"><g transform=\"matrix(1,0,0,-1,0,102.15706799291414)\"><path fill-rule=\"evenodd\" fill=\"#66cc99\" stroke=\"#555555\" stroke-width=\"2.9111500286234104e-05\" opacity=\"0.6\" d=\"M 6.844675557101662,51.07920399551278 L 6.844610270090076,51.07919366492854 L 6.844546309466209,51.079176981513434 L 6.844484291186756,51.07915410593239 L 6.8444248125042435,51.07912525848054 L 6.844368446215817,51.079090716962 L 6.844315735147492,51.07905081401493 L 6.84426718692689,51.079005933908675 L 6.844223269094854,51.078956508843746 L 6.84418440460297,51.07890301479019 L 6.844150967740358,51.078845966904545 L 6.844123280528941,51.078785914569366 L 6.8441016096219585,51.07872343610318 L 6.8440861637355495,51.07865913319163 L 6.844077091638176,51.078593625093504 L 6.844074480717302,51.07852754267753 L 6.844078356137081,51.07846152234704 L 6.844088680595283,51.07839619991147 L 6.84410535468174,51.07833220446306 L 6.844128217834955,51.07827015231846 L 6.844157049887683,51.078210641082954 L 6.844191573186572,51.07815424389491 L 6.8442314552655334,51.07810150390561 L 6.8442763120471355,51.07805292904781 L 6.844325711541095,51.07800898714341 L 6.844379178004436,51.07797010139732 L 6.8444361965230724,51.077936646320985 L 6.844496217970838,51.07790894412481 L 6.844558664298122,51.07788726161439 L 6.844622934099206,51.077871807620326 L 6.844688408404626,51.07786273098638 L 6.844754456642834,51.07786011913562 L 6.8448204427136226,51.077863997227986 L 6.844885731114886,51.07787432791783 L 6.844949693063616,51.077891011713476 L 6.845011712552208,51.077913887935324 L 6.845071192281668,51.07794273626365 L 6.8451275594146175,51.07797727886066 L 6.845180271092584,51.07801718304673 L 6.845228819664521,51.0780620645049 L 6.845272737576078,51.078111490982714 L 6.845311601872621,51.078164986455825 L 6.845345038272531,51.07822203571315 L 6.845372724771671,51.078282089319394 L 6.8453943947441696,51.07834456890722 L 6.845409839509803,51.07840887274789 L 6.845418910343176,51.07847438154685 L 6.845421519905402,51.078540464408505 L 6.845417643084539,51.07860648491232 L 6.845407317236661,51.078671807242294 L 6.845390641825341,51.07873580231017 L 6.845367777462985,51.078797853813974 L 6.8453389443633075,51.07885736417298 L 6.8453044202198985,51.07891376028257 L 6.845264537531294,51.07896649903288 L 6.845219680398364,51.079015072538766 L 6.845170280824876,51.07905901303028 L 6.845116814556877,51.07909789735682 L 6.845059796500942,51.07913135106148 L 6.844999775765455,51.07915905198658 L 6.844937330372653,51.07918073337533 L 6.844873061692348,51.07919618644031 L 6.844807588650928,51.0792052623734 L 6.844741541771367,51.07920787377851 L 6.844675557101662,51.07920399551278 z\" /></g></svg>"
      ],
      "text/plain": [
       "<shapely.geometry.polygon.Polygon at 0x1f4e45de588>"
      ]
     },
     "execution_count": 57,
     "metadata": {},
     "output_type": "execute_result"
    }
   ],
   "source": [
    "query_region_wgs84"
   ]
  },
  {
   "cell_type": "code",
   "execution_count": null,
   "metadata": {},
   "outputs": [],
   "source": []
  }
 ],
 "metadata": {
  "kernelspec": {
   "display_name": "Python 3",
   "language": "python",
   "name": "python3"
  },
  "language_info": {
   "codemirror_mode": {
    "name": "ipython",
    "version": 3
   },
   "file_extension": ".py",
   "mimetype": "text/x-python",
   "name": "python",
   "nbconvert_exporter": "python",
   "pygments_lexer": "ipython3",
   "version": "3.7.3"
  }
 },
 "nbformat": 4,
 "nbformat_minor": 2
}
