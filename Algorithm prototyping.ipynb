{
 "cells": [
  {
   "cell_type": "markdown",
   "metadata": {},
   "source": [
    "# Algorithm prototyping"
   ]
  },
  {
   "cell_type": "code",
   "execution_count": 89,
   "metadata": {},
   "outputs": [],
   "source": [
    "import pandas as pd\n",
    "import matplotlib.pyplot as plt\n",
    "import geopandas as gpd\n",
    "import shapely as sh\n",
    "import shapely.geometry as shg\n",
    "import shapely.ops as sho\n",
    "from datetime import datetime"
   ]
  },
  {
   "cell_type": "code",
   "execution_count": 2,
   "metadata": {},
   "outputs": [],
   "source": [
    "from pyproj import CRS, Transformer"
   ]
  },
  {
   "cell_type": "code",
   "execution_count": 3,
   "metadata": {},
   "outputs": [],
   "source": [
    "%matplotlib inline"
   ]
  },
  {
   "cell_type": "markdown",
   "metadata": {},
   "source": [
    "## Helper functions"
   ]
  },
  {
   "cell_type": "code",
   "execution_count": 4,
   "metadata": {},
   "outputs": [],
   "source": [
    "crs_4326 = CRS.from_epsg(4326) # WGS84\n",
    "crs_25832 = CRS.from_epsg(25832) # ETRS89 / UTM zone 32N\n",
    "to_wgs_84_transformer = Transformer.from_crs(crs_25832, crs_4326)\n",
    "to_utm_transformer = Transformer.from_crs(crs_4326, crs_25832)"
   ]
  },
  {
   "cell_type": "code",
   "execution_count": 57,
   "metadata": {},
   "outputs": [],
   "source": [
    "df = pd.read_csv(\"data\\extracted\\dom1l-fp_32349_5660_1_nw.csv\")"
   ]
  },
  {
   "cell_type": "code",
   "execution_count": 58,
   "metadata": {},
   "outputs": [],
   "source": [
    "df = df.sample(50000)"
   ]
  },
  {
   "cell_type": "code",
   "execution_count": 59,
   "metadata": {},
   "outputs": [],
   "source": [
    "df = gpd.GeoDataFrame(df)"
   ]
  },
  {
   "cell_type": "code",
   "execution_count": 60,
   "metadata": {},
   "outputs": [
    {
     "data": {
      "text/html": [
       "<div>\n",
       "<style scoped>\n",
       "    .dataframe tbody tr th:only-of-type {\n",
       "        vertical-align: middle;\n",
       "    }\n",
       "\n",
       "    .dataframe tbody tr th {\n",
       "        vertical-align: top;\n",
       "    }\n",
       "\n",
       "    .dataframe thead th {\n",
       "        text-align: right;\n",
       "    }\n",
       "</style>\n",
       "<table border=\"1\" class=\"dataframe\">\n",
       "  <thead>\n",
       "    <tr style=\"text-align: right;\">\n",
       "      <th></th>\n",
       "      <th>x</th>\n",
       "      <th>y</th>\n",
       "      <th>z</th>\n",
       "      <th>lat</th>\n",
       "      <th>lon</th>\n",
       "    </tr>\n",
       "  </thead>\n",
       "  <tbody>\n",
       "    <tr>\n",
       "      <th>5054675</th>\n",
       "      <td>349711.01</td>\n",
       "      <td>5660228.61</td>\n",
       "      <td>48.14</td>\n",
       "      <td>51.073867</td>\n",
       "      <td>6.854691</td>\n",
       "    </tr>\n",
       "    <tr>\n",
       "      <th>1261063</th>\n",
       "      <td>349149.77</td>\n",
       "      <td>5660707.60</td>\n",
       "      <td>43.79</td>\n",
       "      <td>51.078024</td>\n",
       "      <td>6.846485</td>\n",
       "    </tr>\n",
       "    <tr>\n",
       "      <th>794640</th>\n",
       "      <td>349093.88</td>\n",
       "      <td>5660981.36</td>\n",
       "      <td>45.69</td>\n",
       "      <td>51.080470</td>\n",
       "      <td>6.845574</td>\n",
       "    </tr>\n",
       "    <tr>\n",
       "      <th>4993455</th>\n",
       "      <td>349694.66</td>\n",
       "      <td>5660559.25</td>\n",
       "      <td>36.52</td>\n",
       "      <td>51.076834</td>\n",
       "      <td>6.854320</td>\n",
       "    </tr>\n",
       "    <tr>\n",
       "      <th>767150</th>\n",
       "      <td>349090.90</td>\n",
       "      <td>5660739.87</td>\n",
       "      <td>57.42</td>\n",
       "      <td>51.078299</td>\n",
       "      <td>6.845632</td>\n",
       "    </tr>\n",
       "  </tbody>\n",
       "</table>\n",
       "</div>"
      ],
      "text/plain": [
       "                 x           y      z        lat       lon\n",
       "5054675  349711.01  5660228.61  48.14  51.073867  6.854691\n",
       "1261063  349149.77  5660707.60  43.79  51.078024  6.846485\n",
       "794640   349093.88  5660981.36  45.69  51.080470  6.845574\n",
       "4993455  349694.66  5660559.25  36.52  51.076834  6.854320\n",
       "767150   349090.90  5660739.87  57.42  51.078299  6.845632"
      ]
     },
     "execution_count": 60,
     "metadata": {},
     "output_type": "execute_result"
    }
   ],
   "source": [
    "df.head()"
   ]
  },
  {
   "cell_type": "code",
   "execution_count": 61,
   "metadata": {},
   "outputs": [],
   "source": [
    "# creating a geometry column \n",
    "geometry = [sh.geometry.Point(xy) for xy in zip(df['lon'], df['lat'])]\n",
    "\n",
    "# Coordinate reference system : WGS84\n",
    "crs = {'init': 'epsg:4326'}"
   ]
  },
  {
   "cell_type": "code",
   "execution_count": 62,
   "metadata": {},
   "outputs": [],
   "source": [
    "# Creating a Geographic data frame \n",
    "gdf = gpd.GeoDataFrame(df[[\"x\", \"y\", \"z\"]], crs=crs, geometry=geometry)"
   ]
  },
  {
   "cell_type": "code",
   "execution_count": 63,
   "metadata": {},
   "outputs": [
    {
     "data": {
      "text/html": [
       "<div>\n",
       "<style scoped>\n",
       "    .dataframe tbody tr th:only-of-type {\n",
       "        vertical-align: middle;\n",
       "    }\n",
       "\n",
       "    .dataframe tbody tr th {\n",
       "        vertical-align: top;\n",
       "    }\n",
       "\n",
       "    .dataframe thead th {\n",
       "        text-align: right;\n",
       "    }\n",
       "</style>\n",
       "<table border=\"1\" class=\"dataframe\">\n",
       "  <thead>\n",
       "    <tr style=\"text-align: right;\">\n",
       "      <th></th>\n",
       "      <th>x</th>\n",
       "      <th>y</th>\n",
       "      <th>z</th>\n",
       "      <th>geometry</th>\n",
       "    </tr>\n",
       "  </thead>\n",
       "  <tbody>\n",
       "    <tr>\n",
       "      <th>5054675</th>\n",
       "      <td>349711.01</td>\n",
       "      <td>5660228.61</td>\n",
       "      <td>48.14</td>\n",
       "      <td>POINT (6.854690566643537 51.07386745912146)</td>\n",
       "    </tr>\n",
       "    <tr>\n",
       "      <th>1261063</th>\n",
       "      <td>349149.77</td>\n",
       "      <td>5660707.60</td>\n",
       "      <td>43.79</td>\n",
       "      <td>POINT (6.846485284062434 51.07802442609893)</td>\n",
       "    </tr>\n",
       "    <tr>\n",
       "      <th>794640</th>\n",
       "      <td>349093.88</td>\n",
       "      <td>5660981.36</td>\n",
       "      <td>45.69</td>\n",
       "      <td>POINT (6.845573711003929 51.08046974174578)</td>\n",
       "    </tr>\n",
       "    <tr>\n",
       "      <th>4993455</th>\n",
       "      <td>349694.66</td>\n",
       "      <td>5660559.25</td>\n",
       "      <td>36.52</td>\n",
       "      <td>POINT (6.854319884494897 51.07683433223707)</td>\n",
       "    </tr>\n",
       "    <tr>\n",
       "      <th>767150</th>\n",
       "      <td>349090.90</td>\n",
       "      <td>5660739.87</td>\n",
       "      <td>57.42</td>\n",
       "      <td>POINT (6.845632028268813 51.07829892534033)</td>\n",
       "    </tr>\n",
       "  </tbody>\n",
       "</table>\n",
       "</div>"
      ],
      "text/plain": [
       "                 x           y      z  \\\n",
       "5054675  349711.01  5660228.61  48.14   \n",
       "1261063  349149.77  5660707.60  43.79   \n",
       "794640   349093.88  5660981.36  45.69   \n",
       "4993455  349694.66  5660559.25  36.52   \n",
       "767150   349090.90  5660739.87  57.42   \n",
       "\n",
       "                                            geometry  \n",
       "5054675  POINT (6.854690566643537 51.07386745912146)  \n",
       "1261063  POINT (6.846485284062434 51.07802442609893)  \n",
       "794640   POINT (6.845573711003929 51.08046974174578)  \n",
       "4993455  POINT (6.854319884494897 51.07683433223707)  \n",
       "767150   POINT (6.845632028268813 51.07829892534033)  "
      ]
     },
     "execution_count": 63,
     "metadata": {},
     "output_type": "execute_result"
    }
   ],
   "source": [
    "gdf.head()"
   ]
  },
  {
   "cell_type": "code",
   "execution_count": 64,
   "metadata": {},
   "outputs": [],
   "source": [
    "lat_q, lon_q = 51.078534, 6.844748\n",
    "query_point = shg.Point(lat_q, lon_q)"
   ]
  },
  {
   "cell_type": "code",
   "execution_count": 75,
   "metadata": {},
   "outputs": [],
   "source": [
    "# filter to 100m around query point first\n",
    "R = 50\n",
    "query_point_xy = shg.Point(to_utm_transformer.transform(lon_q, lat_q))\n",
    "query_region_xy = query_point_xy.buffer(R, resolution=16)\n",
    "query_region_wgs84 = sho.transform(to_wgs_84_transformer.transform, query_region_xy)"
   ]
  },
  {
   "cell_type": "code",
   "execution_count": 76,
   "metadata": {},
   "outputs": [],
   "source": [
    "gdf_query = gdf[gdf.intersects(query_region_wgs84)]"
   ]
  },
  {
   "cell_type": "code",
   "execution_count": 77,
   "metadata": {},
   "outputs": [
    {
     "data": {
      "text/plain": [
       "(168, 50000)"
      ]
     },
     "execution_count": 77,
     "metadata": {},
     "output_type": "execute_result"
    }
   ],
   "source": [
    "len(gdf_query), len(gdf)"
   ]
  },
  {
   "cell_type": "code",
   "execution_count": 78,
   "metadata": {},
   "outputs": [
    {
     "data": {
      "text/plain": [
       "<matplotlib.collections.PathCollection at 0x21a065e2c18>"
      ]
     },
     "execution_count": 78,
     "metadata": {},
     "output_type": "execute_result"
    },
    {
     "data": {
      "image/png": "[encoded data removed]",
      "text/plain": [
       "<Figure size 720x720 with 1 Axes>"
      ]
     },
     "metadata": {
      "needs_background": "light"
     },
     "output_type": "display_data"
    }
   ],
   "source": [
    "plt.figure(figsize=(10,10))\n",
    "plt.scatter(gdf[\"x\"], gdf[\"y\"])\n",
    "plt.scatter(gdf_query[\"x\"], gdf_query[\"y\"])"
   ]
  },
  {
   "cell_type": "code",
   "execution_count": 84,
   "metadata": {},
   "outputs": [],
   "source": [
    "# get nearest point to the query point\n",
    "query_nearest_point = gdf_query.loc[gdf_query.distance(sh.geometry.Point(lon_q, lat_q)).idxmin()]"
   ]
  },
  {
   "cell_type": "markdown",
   "metadata": {},
   "source": [
    "This point is now the origin of the projected axis, so we have to remove the offset of other points"
   ]
  },
  {
   "cell_type": "code",
   "execution_count": 86,
   "metadata": {},
   "outputs": [
    {
     "data": {
      "text/plain": [
       "x                                                349027\n",
       "y                                           5.66077e+06\n",
       "z                                                 43.97\n",
       "geometry    POINT (6.844702615635597 51.07853145210984)\n",
       "Name: 211700, dtype: object"
      ]
     },
     "execution_count": 86,
     "metadata": {},
     "output_type": "execute_result"
    }
   ],
   "source": [
    "query_nearest_point"
   ]
  },
  {
   "cell_type": "code",
   "execution_count": 87,
   "metadata": {},
   "outputs": [
    {
     "name": "stderr",
     "output_type": "stream",
     "text": [
      "c:\\users\\kopyt\\.virtualenvs\\height-map-jyag_ntc\\lib\\site-packages\\ipykernel_launcher.py:1: SettingWithCopyWarning: \n",
      "A value is trying to be set on a copy of a slice from a DataFrame.\n",
      "Try using .loc[row_indexer,col_indexer] = value instead\n",
      "\n",
      "See the caveats in the documentation: http://pandas.pydata.org/pandas-docs/stable/user_guide/indexing.html#returning-a-view-versus-a-copy\n",
      "  \"\"\"Entry point for launching an IPython kernel.\n",
      "c:\\users\\kopyt\\.virtualenvs\\height-map-jyag_ntc\\lib\\site-packages\\ipykernel_launcher.py:2: SettingWithCopyWarning: \n",
      "A value is trying to be set on a copy of a slice from a DataFrame.\n",
      "Try using .loc[row_indexer,col_indexer] = value instead\n",
      "\n",
      "See the caveats in the documentation: http://pandas.pydata.org/pandas-docs/stable/user_guide/indexing.html#returning-a-view-versus-a-copy\n",
      "  \n"
     ]
    }
   ],
   "source": [
    "gdf_query[\"x_proj\"] = gdf_query[\"x\"] - query_nearest_point[\"x\"]\n",
    "gdf_query[\"y_proj\"] = gdf_query[\"y\"] - query_nearest_point[\"y\"]"
   ]
  },
  {
   "cell_type": "code",
   "execution_count": 88,
   "metadata": {},
   "outputs": [
    {
     "data": {
      "text/html": [
       "<div>\n",
       "<style scoped>\n",
       "    .dataframe tbody tr th:only-of-type {\n",
       "        vertical-align: middle;\n",
       "    }\n",
       "\n",
       "    .dataframe tbody tr th {\n",
       "        vertical-align: top;\n",
       "    }\n",
       "\n",
       "    .dataframe thead th {\n",
       "        text-align: right;\n",
       "    }\n",
       "</style>\n",
       "<table border=\"1\" class=\"dataframe\">\n",
       "  <thead>\n",
       "    <tr style=\"text-align: right;\">\n",
       "      <th></th>\n",
       "      <th>x</th>\n",
       "      <th>y</th>\n",
       "      <th>z</th>\n",
       "      <th>geometry</th>\n",
       "      <th>x_proj</th>\n",
       "      <th>y_proj</th>\n",
       "    </tr>\n",
       "  </thead>\n",
       "  <tbody>\n",
       "    <tr>\n",
       "      <th>302152</th>\n",
       "      <td>349038.27</td>\n",
       "      <td>5660744.67</td>\n",
       "      <td>43.97</td>\n",
       "      <td>POINT (6.844879250309894 51.07832821420593)</td>\n",
       "      <td>11.71</td>\n",
       "      <td>-22.96</td>\n",
       "    </tr>\n",
       "    <tr>\n",
       "      <th>283881</th>\n",
       "      <td>349035.98</td>\n",
       "      <td>5660796.55</td>\n",
       "      <td>44.07</td>\n",
       "      <td>POINT (6.844824914852152 51.07879380599026)</td>\n",
       "      <td>9.42</td>\n",
       "      <td>28.92</td>\n",
       "    </tr>\n",
       "    <tr>\n",
       "      <th>156246</th>\n",
       "      <td>349019.42</td>\n",
       "      <td>5660770.34</td>\n",
       "      <td>46.83</td>\n",
       "      <td>POINT (6.844599630211593 51.07855392553117)</td>\n",
       "      <td>-7.14</td>\n",
       "      <td>2.71</td>\n",
       "    </tr>\n",
       "    <tr>\n",
       "      <th>186458</th>\n",
       "      <td>349023.27</td>\n",
       "      <td>5660791.53</td>\n",
       "      <td>46.47</td>\n",
       "      <td>POINT (6.844645700156561 51.07874535210168)</td>\n",
       "      <td>-3.29</td>\n",
       "      <td>23.90</td>\n",
       "    </tr>\n",
       "    <tr>\n",
       "      <th>97177</th>\n",
       "      <td>349012.06</td>\n",
       "      <td>5660786.86</td>\n",
       "      <td>43.86</td>\n",
       "      <td>POINT (6.84448773749141 51.078700437756)</td>\n",
       "      <td>-14.50</td>\n",
       "      <td>19.23</td>\n",
       "    </tr>\n",
       "  </tbody>\n",
       "</table>\n",
       "</div>"
      ],
      "text/plain": [
       "                x           y      z  \\\n",
       "302152  349038.27  5660744.67  43.97   \n",
       "283881  349035.98  5660796.55  44.07   \n",
       "156246  349019.42  5660770.34  46.83   \n",
       "186458  349023.27  5660791.53  46.47   \n",
       "97177   349012.06  5660786.86  43.86   \n",
       "\n",
       "                                           geometry  x_proj  y_proj  \n",
       "302152  POINT (6.844879250309894 51.07832821420593)   11.71  -22.96  \n",
       "283881  POINT (6.844824914852152 51.07879380599026)    9.42   28.92  \n",
       "156246  POINT (6.844599630211593 51.07855392553117)   -7.14    2.71  \n",
       "186458  POINT (6.844645700156561 51.07874535210168)   -3.29   23.90  \n",
       "97177      POINT (6.84448773749141 51.078700437756)  -14.50   19.23  "
      ]
     },
     "execution_count": 88,
     "metadata": {},
     "output_type": "execute_result"
    }
   ],
   "source": [
    "gdf_query.head()"
   ]
  },
  {
   "cell_type": "markdown",
   "metadata": {},
   "source": [
    "## Sunstate"
   ]
  },
  {
   "cell_type": "code",
   "execution_count": 90,
   "metadata": {},
   "outputs": [],
   "source": [
    "query_time = datetime(2019, 7, 21, 9, 0, 0)"
   ]
  },
  {
   "cell_type": "code",
   "execution_count": null,
   "metadata": {},
   "outputs": [],
   "source": []
  }
 ],
 "metadata": {
  "kernelspec": {
   "display_name": "Python 3",
   "language": "python",
   "name": "python3"
  },
  "language_info": {
   "codemirror_mode": {
    "name": "ipython",
    "version": 3
   },
   "file_extension": ".py",
   "mimetype": "text/x-python",
   "name": "python",
   "nbconvert_exporter": "python",
   "pygments_lexer": "ipython3",
   "version": "3.7.3"
  }
 },
 "nbformat": 4,
 "nbformat_minor": 2
}
