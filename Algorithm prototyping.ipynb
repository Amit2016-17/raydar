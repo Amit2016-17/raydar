{
 "cells": [
  {
   "cell_type": "markdown",
   "metadata": {},
   "source": [
    "# Algorithm prototyping"
   ]
  },
  {
   "cell_type": "code",
   "execution_count": 1,
   "metadata": {},
   "outputs": [],
   "source": [
    "import pandas as pd\n",
    "import matplotlib.pyplot as plt\n",
    "import geopandas as gpd\n",
    "import shapely as sh\n",
    "import shapely.geometry as shg\n",
    "import shapely.ops as sho\n",
    "from datetime import datetime"
   ]
  },
  {
   "cell_type": "code",
   "execution_count": 2,
   "metadata": {},
   "outputs": [],
   "source": [
    "from pyproj import CRS, Transformer"
   ]
  },
  {
   "cell_type": "code",
   "execution_count": 3,
   "metadata": {},
   "outputs": [],
   "source": [
    "%matplotlib inline"
   ]
  },
  {
   "cell_type": "code",
   "execution_count": 4,
   "metadata": {},
   "outputs": [],
   "source": [
    "%load_ext autoreload\n",
    "%autoreload 2"
   ]
  },
  {
   "cell_type": "code",
   "execution_count": 5,
   "metadata": {},
   "outputs": [],
   "source": [
    "from utils import get_sun_state"
   ]
  },
  {
   "cell_type": "markdown",
   "metadata": {},
   "source": [
    "## Helper functions"
   ]
  },
  {
   "cell_type": "code",
   "execution_count": 6,
   "metadata": {},
   "outputs": [],
   "source": [
    "crs_4326 = CRS.from_epsg(4326) # WGS84\n",
    "crs_25832 = CRS.from_epsg(25832) # ETRS89 / UTM zone 32N\n",
    "to_wgs_84_transformer = Transformer.from_crs(crs_25832, crs_4326)\n",
    "to_utm_transformer = Transformer.from_crs(crs_4326, crs_25832)"
   ]
  },
  {
   "cell_type": "code",
   "execution_count": 7,
   "metadata": {},
   "outputs": [],
   "source": [
    "df = pd.read_csv(\"data\\extracted\\dom1l-fp_32349_5660_1_nw.csv\")"
   ]
  },
  {
   "cell_type": "code",
   "execution_count": 8,
   "metadata": {},
   "outputs": [],
   "source": [
    "df = df.sample(50000)"
   ]
  },
  {
   "cell_type": "code",
   "execution_count": 9,
   "metadata": {},
   "outputs": [],
   "source": [
    "df = gpd.GeoDataFrame(df)"
   ]
  },
  {
   "cell_type": "code",
   "execution_count": 10,
   "metadata": {},
   "outputs": [
    {
     "data": {
      "text/html": [
       "<div>\n",
       "<style scoped>\n",
       "    .dataframe tbody tr th:only-of-type {\n",
       "        vertical-align: middle;\n",
       "    }\n",
       "\n",
       "    .dataframe tbody tr th {\n",
       "        vertical-align: top;\n",
       "    }\n",
       "\n",
       "    .dataframe thead th {\n",
       "        text-align: right;\n",
       "    }\n",
       "</style>\n",
       "<table border=\"1\" class=\"dataframe\">\n",
       "  <thead>\n",
       "    <tr style=\"text-align: right;\">\n",
       "      <th></th>\n",
       "      <th>x</th>\n",
       "      <th>y</th>\n",
       "      <th>z</th>\n",
       "      <th>lat</th>\n",
       "      <th>lon</th>\n",
       "    </tr>\n",
       "  </thead>\n",
       "  <tbody>\n",
       "    <tr>\n",
       "      <th>1771007</th>\n",
       "      <td>349217.83</td>\n",
       "      <td>5660626.72</td>\n",
       "      <td>50.97</td>\n",
       "      <td>51.077316</td>\n",
       "      <td>6.847490</td>\n",
       "    </tr>\n",
       "    <tr>\n",
       "      <th>4760740</th>\n",
       "      <td>349642.06</td>\n",
       "      <td>5660145.42</td>\n",
       "      <td>56.81</td>\n",
       "      <td>51.073102</td>\n",
       "      <td>6.853742</td>\n",
       "    </tr>\n",
       "    <tr>\n",
       "      <th>4781666</th>\n",
       "      <td>349646.32</td>\n",
       "      <td>5660706.47</td>\n",
       "      <td>36.42</td>\n",
       "      <td>51.078145</td>\n",
       "      <td>6.853569</td>\n",
       "    </tr>\n",
       "    <tr>\n",
       "      <th>1012059</th>\n",
       "      <td>349118.10</td>\n",
       "      <td>5660473.97</td>\n",
       "      <td>54.59</td>\n",
       "      <td>51.075917</td>\n",
       "      <td>6.846131</td>\n",
       "    </tr>\n",
       "    <tr>\n",
       "      <th>322613</th>\n",
       "      <td>349040.81</td>\n",
       "      <td>5660546.09</td>\n",
       "      <td>49.81</td>\n",
       "      <td>51.076544</td>\n",
       "      <td>6.844998</td>\n",
       "    </tr>\n",
       "  </tbody>\n",
       "</table>\n",
       "</div>"
      ],
      "text/plain": [
       "                 x           y      z        lat       lon\n",
       "1771007  349217.83  5660626.72  50.97  51.077316  6.847490\n",
       "4760740  349642.06  5660145.42  56.81  51.073102  6.853742\n",
       "4781666  349646.32  5660706.47  36.42  51.078145  6.853569\n",
       "1012059  349118.10  5660473.97  54.59  51.075917  6.846131\n",
       "322613   349040.81  5660546.09  49.81  51.076544  6.844998"
      ]
     },
     "execution_count": 10,
     "metadata": {},
     "output_type": "execute_result"
    }
   ],
   "source": [
    "df.head()"
   ]
  },
  {
   "cell_type": "code",
   "execution_count": 11,
   "metadata": {},
   "outputs": [],
   "source": [
    "# creating a geometry column \n",
    "geometry = [sh.geometry.Point(xy) for xy in zip(df['lon'], df['lat'])]\n",
    "\n",
    "# Coordinate reference system : WGS84\n",
    "crs = {'init': 'epsg:4326'}"
   ]
  },
  {
   "cell_type": "code",
   "execution_count": 12,
   "metadata": {},
   "outputs": [],
   "source": [
    "# Creating a Geographic data frame \n",
    "gdf = gpd.GeoDataFrame(df[[\"x\", \"y\", \"z\"]], crs=crs, geometry=geometry)"
   ]
  },
  {
   "cell_type": "code",
   "execution_count": 13,
   "metadata": {},
   "outputs": [
    {
     "data": {
      "text/html": [
       "<div>\n",
       "<style scoped>\n",
       "    .dataframe tbody tr th:only-of-type {\n",
       "        vertical-align: middle;\n",
       "    }\n",
       "\n",
       "    .dataframe tbody tr th {\n",
       "        vertical-align: top;\n",
       "    }\n",
       "\n",
       "    .dataframe thead th {\n",
       "        text-align: right;\n",
       "    }\n",
       "</style>\n",
       "<table border=\"1\" class=\"dataframe\">\n",
       "  <thead>\n",
       "    <tr style=\"text-align: right;\">\n",
       "      <th></th>\n",
       "      <th>x</th>\n",
       "      <th>y</th>\n",
       "      <th>z</th>\n",
       "      <th>geometry</th>\n",
       "    </tr>\n",
       "  </thead>\n",
       "  <tbody>\n",
       "    <tr>\n",
       "      <th>1771007</th>\n",
       "      <td>349217.83</td>\n",
       "      <td>5660626.72</td>\n",
       "      <td>50.97</td>\n",
       "      <td>POINT (6.847489901920669 51.07731552459477)</td>\n",
       "    </tr>\n",
       "    <tr>\n",
       "      <th>4760740</th>\n",
       "      <td>349642.06</td>\n",
       "      <td>5660145.42</td>\n",
       "      <td>56.81</td>\n",
       "      <td>POINT (6.853741670688978 51.07310184731246)</td>\n",
       "    </tr>\n",
       "    <tr>\n",
       "      <th>4781666</th>\n",
       "      <td>349646.32</td>\n",
       "      <td>5660706.47</td>\n",
       "      <td>36.42</td>\n",
       "      <td>POINT (6.853569090476133 51.07814459681858)</td>\n",
       "    </tr>\n",
       "    <tr>\n",
       "      <th>1012059</th>\n",
       "      <td>349118.10</td>\n",
       "      <td>5660473.97</td>\n",
       "      <td>54.59</td>\n",
       "      <td>POINT (6.846131026552107 51.0759166953012)</td>\n",
       "    </tr>\n",
       "    <tr>\n",
       "      <th>322613</th>\n",
       "      <td>349040.81</td>\n",
       "      <td>5660546.09</td>\n",
       "      <td>49.81</td>\n",
       "      <td>POINT (6.844998415116534 51.07654443984316)</td>\n",
       "    </tr>\n",
       "  </tbody>\n",
       "</table>\n",
       "</div>"
      ],
      "text/plain": [
       "                 x           y      z  \\\n",
       "1771007  349217.83  5660626.72  50.97   \n",
       "4760740  349642.06  5660145.42  56.81   \n",
       "4781666  349646.32  5660706.47  36.42   \n",
       "1012059  349118.10  5660473.97  54.59   \n",
       "322613   349040.81  5660546.09  49.81   \n",
       "\n",
       "                                            geometry  \n",
       "1771007  POINT (6.847489901920669 51.07731552459477)  \n",
       "4760740  POINT (6.853741670688978 51.07310184731246)  \n",
       "4781666  POINT (6.853569090476133 51.07814459681858)  \n",
       "1012059   POINT (6.846131026552107 51.0759166953012)  \n",
       "322613   POINT (6.844998415116534 51.07654443984316)  "
      ]
     },
     "execution_count": 13,
     "metadata": {},
     "output_type": "execute_result"
    }
   ],
   "source": [
    "gdf.head()"
   ]
  },
  {
   "cell_type": "code",
   "execution_count": 14,
   "metadata": {},
   "outputs": [],
   "source": [
    "lat_q, lon_q = 51.078534, 6.844748\n",
    "query_point = shg.Point(lat_q, lon_q)"
   ]
  },
  {
   "cell_type": "code",
   "execution_count": 15,
   "metadata": {},
   "outputs": [],
   "source": [
    "# filter to 100m around query point first\n",
    "R = 50\n",
    "query_point_xy = shg.Point(to_utm_transformer.transform(lon_q, lat_q))\n",
    "query_region_xy = query_point_xy.buffer(R, resolution=16)\n",
    "query_region_wgs84 = sho.transform(to_wgs_84_transformer.transform, query_region_xy)"
   ]
  },
  {
   "cell_type": "code",
   "execution_count": 16,
   "metadata": {},
   "outputs": [],
   "source": [
    "gdf_query = gdf[gdf.intersects(query_region_wgs84)]"
   ]
  },
  {
   "cell_type": "code",
   "execution_count": 17,
   "metadata": {},
   "outputs": [
    {
     "data": {
      "text/plain": [
       "(170, 50000)"
      ]
     },
     "execution_count": 17,
     "metadata": {},
     "output_type": "execute_result"
    }
   ],
   "source": [
    "len(gdf_query), len(gdf)"
   ]
  },
  {
   "cell_type": "code",
   "execution_count": 18,
   "metadata": {},
   "outputs": [
    {
     "data": {
      "text/plain": [
       "<matplotlib.collections.PathCollection at 0x29701b1bf98>"
      ]
     },
     "execution_count": 18,
     "metadata": {},
     "output_type": "execute_result"
    },
    {
     "data": {
      "image/png": "[encoded data removed]",
      "text/plain": [
       "<Figure size 720x720 with 1 Axes>"
      ]
     },
     "metadata": {
      "needs_background": "light"
     },
     "output_type": "display_data"
    }
   ],
   "source": [
    "plt.figure(figsize=(10,10))\n",
    "plt.scatter(gdf[\"x\"], gdf[\"y\"])\n",
    "plt.scatter(gdf_query[\"x\"], gdf_query[\"y\"])"
   ]
  },
  {
   "cell_type": "code",
   "execution_count": 19,
   "metadata": {},
   "outputs": [],
   "source": [
    "# get nearest point to the query point\n",
    "query_nearest_point = gdf_query.loc[gdf_query.distance(sh.geometry.Point(lon_q, lat_q)).idxmin()]"
   ]
  },
  {
   "cell_type": "markdown",
   "metadata": {},
   "source": [
    "This point is now the origin of the projected axis, so we have to remove the offset of other points"
   ]
  },
  {
   "cell_type": "code",
   "execution_count": 20,
   "metadata": {},
   "outputs": [
    {
     "data": {
      "text/plain": [
       "x                                                349030\n",
       "y                                           5.66077e+06\n",
       "z                                                 43.99\n",
       "geometry    POINT (6.844746710492507 51.07852578992837)\n",
       "Name: 235141, dtype: object"
      ]
     },
     "execution_count": 20,
     "metadata": {},
     "output_type": "execute_result"
    }
   ],
   "source": [
    "query_nearest_point"
   ]
  },
  {
   "cell_type": "code",
   "execution_count": 21,
   "metadata": {},
   "outputs": [
    {
     "name": "stderr",
     "output_type": "stream",
     "text": [
      "c:\\users\\kopyt\\.virtualenvs\\height-map-jyag_ntc\\lib\\site-packages\\ipykernel_launcher.py:1: SettingWithCopyWarning: \n",
      "A value is trying to be set on a copy of a slice from a DataFrame.\n",
      "Try using .loc[row_indexer,col_indexer] = value instead\n",
      "\n",
      "See the caveats in the documentation: http://pandas.pydata.org/pandas-docs/stable/user_guide/indexing.html#returning-a-view-versus-a-copy\n",
      "  \"\"\"Entry point for launching an IPython kernel.\n",
      "c:\\users\\kopyt\\.virtualenvs\\height-map-jyag_ntc\\lib\\site-packages\\ipykernel_launcher.py:2: SettingWithCopyWarning: \n",
      "A value is trying to be set on a copy of a slice from a DataFrame.\n",
      "Try using .loc[row_indexer,col_indexer] = value instead\n",
      "\n",
      "See the caveats in the documentation: http://pandas.pydata.org/pandas-docs/stable/user_guide/indexing.html#returning-a-view-versus-a-copy\n",
      "  \n"
     ]
    }
   ],
   "source": [
    "gdf_query[\"x_proj\"] = gdf_query[\"x\"] - query_nearest_point[\"x\"]\n",
    "gdf_query[\"y_proj\"] = gdf_query[\"y\"] - query_nearest_point[\"y\"]"
   ]
  },
  {
   "cell_type": "code",
   "execution_count": 22,
   "metadata": {},
   "outputs": [
    {
     "data": {
      "text/html": [
       "<div>\n",
       "<style scoped>\n",
       "    .dataframe tbody tr th:only-of-type {\n",
       "        vertical-align: middle;\n",
       "    }\n",
       "\n",
       "    .dataframe tbody tr th {\n",
       "        vertical-align: top;\n",
       "    }\n",
       "\n",
       "    .dataframe thead th {\n",
       "        text-align: right;\n",
       "    }\n",
       "</style>\n",
       "<table border=\"1\" class=\"dataframe\">\n",
       "  <thead>\n",
       "    <tr style=\"text-align: right;\">\n",
       "      <th></th>\n",
       "      <th>x</th>\n",
       "      <th>y</th>\n",
       "      <th>z</th>\n",
       "      <th>geometry</th>\n",
       "      <th>x_proj</th>\n",
       "      <th>y_proj</th>\n",
       "    </tr>\n",
       "  </thead>\n",
       "  <tbody>\n",
       "    <tr>\n",
       "      <th>144333</th>\n",
       "      <td>349017.92</td>\n",
       "      <td>5660792.55</td>\n",
       "      <td>43.87</td>\n",
       "      <td>POINT (6.844568954984084 51.07875311011469)</td>\n",
       "      <td>-11.71</td>\n",
       "      <td>25.64</td>\n",
       "    </tr>\n",
       "    <tr>\n",
       "      <th>102202</th>\n",
       "      <td>349012.68</td>\n",
       "      <td>5660772.92</td>\n",
       "      <td>46.80</td>\n",
       "      <td>POINT (6.844502405074643 51.0785753359341)</td>\n",
       "      <td>-16.95</td>\n",
       "      <td>6.01</td>\n",
       "    </tr>\n",
       "    <tr>\n",
       "      <th>232111</th>\n",
       "      <td>349029.25</td>\n",
       "      <td>5660779.57</td>\n",
       "      <td>44.03</td>\n",
       "      <td>POINT (6.844736001875348 51.07863945284269)</td>\n",
       "      <td>-0.38</td>\n",
       "      <td>12.66</td>\n",
       "    </tr>\n",
       "    <tr>\n",
       "      <th>376307</th>\n",
       "      <td>349047.29</td>\n",
       "      <td>5660759.96</td>\n",
       "      <td>64.63</td>\n",
       "      <td>POINT (6.845001536246603 51.07846798333761)</td>\n",
       "      <td>17.66</td>\n",
       "      <td>-6.95</td>\n",
       "    </tr>\n",
       "    <tr>\n",
       "      <th>333062</th>\n",
       "      <td>349042.09</td>\n",
       "      <td>5660766.27</td>\n",
       "      <td>44.02</td>\n",
       "      <td>POINT (6.84492472202689 51.0785233170566)</td>\n",
       "      <td>12.46</td>\n",
       "      <td>-0.64</td>\n",
       "    </tr>\n",
       "  </tbody>\n",
       "</table>\n",
       "</div>"
      ],
      "text/plain": [
       "                x           y      z  \\\n",
       "144333  349017.92  5660792.55  43.87   \n",
       "102202  349012.68  5660772.92  46.80   \n",
       "232111  349029.25  5660779.57  44.03   \n",
       "376307  349047.29  5660759.96  64.63   \n",
       "333062  349042.09  5660766.27  44.02   \n",
       "\n",
       "                                           geometry  x_proj  y_proj  \n",
       "144333  POINT (6.844568954984084 51.07875311011469)  -11.71   25.64  \n",
       "102202   POINT (6.844502405074643 51.0785753359341)  -16.95    6.01  \n",
       "232111  POINT (6.844736001875348 51.07863945284269)   -0.38   12.66  \n",
       "376307  POINT (6.845001536246603 51.07846798333761)   17.66   -6.95  \n",
       "333062    POINT (6.84492472202689 51.0785233170566)   12.46   -0.64  "
      ]
     },
     "execution_count": 22,
     "metadata": {},
     "output_type": "execute_result"
    }
   ],
   "source": [
    "gdf_query.head()"
   ]
  },
  {
   "cell_type": "markdown",
   "metadata": {},
   "source": [
    "## Sunstate"
   ]
  },
  {
   "cell_type": "code",
   "execution_count": 23,
   "metadata": {},
   "outputs": [],
   "source": [
    "query_time = datetime(2019, 7, 21, 9, 0, 0)"
   ]
  },
  {
   "cell_type": "code",
   "execution_count": 24,
   "metadata": {},
   "outputs": [
    {
     "name": "stdout",
     "output_type": "stream",
     "text": [
      "43.55304490574677 119.59839270773891\n"
     ]
    }
   ],
   "source": [
    "zen, azimuth = get_sun_state(lat_q, lon_q, query_time)\n",
    "print(zen, azimuth)"
   ]
  },
  {
   "cell_type": "code",
   "execution_count": null,
   "metadata": {},
   "outputs": [],
   "source": []
  }
 ],
 "metadata": {
  "kernelspec": {
   "display_name": "Python 3",
   "language": "python",
   "name": "python3"
  },
  "language_info": {
   "codemirror_mode": {
    "name": "ipython",
    "version": 3
   },
   "file_extension": ".py",
   "mimetype": "text/x-python",
   "name": "python",
   "nbconvert_exporter": "python",
   "pygments_lexer": "ipython3",
   "version": "3.7.3"
  }
 },
 "nbformat": 4,
 "nbformat_minor": 2
}
