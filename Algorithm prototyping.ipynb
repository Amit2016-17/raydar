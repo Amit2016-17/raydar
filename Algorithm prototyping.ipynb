{
 "cells": [
  {
   "cell_type": "markdown",
   "metadata": {},
   "source": [
    "# Algorithm prototyping"
   ]
  },
  {
   "cell_type": "code",
   "execution_count": 1,
   "metadata": {},
   "outputs": [],
   "source": [
    "import pandas as pd\n",
    "import matplotlib.pyplot as plt\n",
    "import geopandas as gpd\n",
    "import shapely as sh\n",
    "import shapely.geometry as shg\n",
    "import shapely.ops as sho\n",
    "from datetime import datetime"
   ]
  },
  {
   "cell_type": "code",
   "execution_count": 2,
   "metadata": {},
   "outputs": [],
   "source": [
    "from pyproj import CRS, Transformer"
   ]
  },
  {
   "cell_type": "code",
   "execution_count": 3,
   "metadata": {},
   "outputs": [],
   "source": [
    "%matplotlib inline"
   ]
  },
  {
   "cell_type": "code",
   "execution_count": 4,
   "metadata": {},
   "outputs": [],
   "source": [
    "%load_ext autoreload\n",
    "%autoreload 2"
   ]
  },
  {
   "cell_type": "code",
   "execution_count": 25,
   "metadata": {},
   "outputs": [],
   "source": [
    "from utils import get_sun_state, project_sunray"
   ]
  },
  {
   "cell_type": "markdown",
   "metadata": {},
   "source": [
    "## Helper functions"
   ]
  },
  {
   "cell_type": "code",
   "execution_count": 6,
   "metadata": {},
   "outputs": [],
   "source": [
    "crs_4326 = CRS.from_epsg(4326) # WGS84\n",
    "crs_25832 = CRS.from_epsg(25832) # ETRS89 / UTM zone 32N\n",
    "to_wgs_84_transformer = Transformer.from_crs(crs_25832, crs_4326)\n",
    "to_utm_transformer = Transformer.from_crs(crs_4326, crs_25832)"
   ]
  },
  {
   "cell_type": "code",
   "execution_count": 100,
   "metadata": {},
   "outputs": [],
   "source": [
    "df = pd.read_csv(\"data\\extracted\\dom1l-fp_32349_5660_1_nw.csv\")"
   ]
  },
  {
   "cell_type": "code",
   "execution_count": 101,
   "metadata": {},
   "outputs": [],
   "source": [
    "df = df.sample(100000)"
   ]
  },
  {
   "cell_type": "code",
   "execution_count": 102,
   "metadata": {},
   "outputs": [],
   "source": [
    "df = gpd.GeoDataFrame(df)"
   ]
  },
  {
   "cell_type": "code",
   "execution_count": 103,
   "metadata": {},
   "outputs": [
    {
     "data": {
      "text/html": [
       "<div>\n",
       "<style scoped>\n",
       "    .dataframe tbody tr th:only-of-type {\n",
       "        vertical-align: middle;\n",
       "    }\n",
       "\n",
       "    .dataframe tbody tr th {\n",
       "        vertical-align: top;\n",
       "    }\n",
       "\n",
       "    .dataframe thead th {\n",
       "        text-align: right;\n",
       "    }\n",
       "</style>\n",
       "<table border=\"1\" class=\"dataframe\">\n",
       "  <thead>\n",
       "    <tr style=\"text-align: right;\">\n",
       "      <th></th>\n",
       "      <th>x</th>\n",
       "      <th>y</th>\n",
       "      <th>z</th>\n",
       "      <th>lat</th>\n",
       "      <th>lon</th>\n",
       "    </tr>\n",
       "  </thead>\n",
       "  <tbody>\n",
       "    <tr>\n",
       "      <th>1600226</th>\n",
       "      <td>349195.21</td>\n",
       "      <td>5660117.82</td>\n",
       "      <td>43.65</td>\n",
       "      <td>51.072737</td>\n",
       "      <td>6.847380</td>\n",
       "    </tr>\n",
       "    <tr>\n",
       "      <th>2495302</th>\n",
       "      <td>349303.81</td>\n",
       "      <td>5660134.66</td>\n",
       "      <td>43.45</td>\n",
       "      <td>51.072916</td>\n",
       "      <td>6.848922</td>\n",
       "    </tr>\n",
       "    <tr>\n",
       "      <th>2591868</th>\n",
       "      <td>349316.16</td>\n",
       "      <td>5660047.95</td>\n",
       "      <td>44.98</td>\n",
       "      <td>51.072141</td>\n",
       "      <td>6.849134</td>\n",
       "    </tr>\n",
       "    <tr>\n",
       "      <th>2996689</th>\n",
       "      <td>349368.29</td>\n",
       "      <td>5660043.29</td>\n",
       "      <td>44.66</td>\n",
       "      <td>51.072112</td>\n",
       "      <td>6.849879</td>\n",
       "    </tr>\n",
       "    <tr>\n",
       "      <th>3380080</th>\n",
       "      <td>349421.56</td>\n",
       "      <td>5660981.82</td>\n",
       "      <td>39.52</td>\n",
       "      <td>51.080560</td>\n",
       "      <td>6.850248</td>\n",
       "    </tr>\n",
       "  </tbody>\n",
       "</table>\n",
       "</div>"
      ],
      "text/plain": [
       "                 x           y      z        lat       lon\n",
       "1600226  349195.21  5660117.82  43.65  51.072737  6.847380\n",
       "2495302  349303.81  5660134.66  43.45  51.072916  6.848922\n",
       "2591868  349316.16  5660047.95  44.98  51.072141  6.849134\n",
       "2996689  349368.29  5660043.29  44.66  51.072112  6.849879\n",
       "3380080  349421.56  5660981.82  39.52  51.080560  6.850248"
      ]
     },
     "execution_count": 103,
     "metadata": {},
     "output_type": "execute_result"
    }
   ],
   "source": [
    "df.head()"
   ]
  },
  {
   "cell_type": "code",
   "execution_count": 104,
   "metadata": {},
   "outputs": [],
   "source": [
    "# creating a geometry column \n",
    "geometry = [sh.geometry.Point(xy) for xy in zip(df['lon'], df['lat'])]\n",
    "\n",
    "# Coordinate reference system : WGS84\n",
    "crs = {'init': 'epsg:4326'}"
   ]
  },
  {
   "cell_type": "code",
   "execution_count": 105,
   "metadata": {},
   "outputs": [],
   "source": [
    "# Creating a Geographic data frame \n",
    "gdf = gpd.GeoDataFrame(df[[\"x\", \"y\", \"z\"]], crs=crs, geometry=geometry)"
   ]
  },
  {
   "cell_type": "code",
   "execution_count": 106,
   "metadata": {},
   "outputs": [
    {
     "data": {
      "text/html": [
       "<div>\n",
       "<style scoped>\n",
       "    .dataframe tbody tr th:only-of-type {\n",
       "        vertical-align: middle;\n",
       "    }\n",
       "\n",
       "    .dataframe tbody tr th {\n",
       "        vertical-align: top;\n",
       "    }\n",
       "\n",
       "    .dataframe thead th {\n",
       "        text-align: right;\n",
       "    }\n",
       "</style>\n",
       "<table border=\"1\" class=\"dataframe\">\n",
       "  <thead>\n",
       "    <tr style=\"text-align: right;\">\n",
       "      <th></th>\n",
       "      <th>x</th>\n",
       "      <th>y</th>\n",
       "      <th>z</th>\n",
       "      <th>geometry</th>\n",
       "    </tr>\n",
       "  </thead>\n",
       "  <tbody>\n",
       "    <tr>\n",
       "      <th>1600226</th>\n",
       "      <td>349195.21</td>\n",
       "      <td>5660117.82</td>\n",
       "      <td>43.65</td>\n",
       "      <td>POINT (6.847379512541162 51.07273658910175)</td>\n",
       "    </tr>\n",
       "    <tr>\n",
       "      <th>2495302</th>\n",
       "      <td>349303.81</td>\n",
       "      <td>5660134.66</td>\n",
       "      <td>43.45</td>\n",
       "      <td>POINT (6.84892150379186 51.0729164400414)</td>\n",
       "    </tr>\n",
       "    <tr>\n",
       "      <th>2591868</th>\n",
       "      <td>349316.16</td>\n",
       "      <td>5660047.95</td>\n",
       "      <td>44.98</td>\n",
       "      <td>POINT (6.849133793883347 51.07214050269744)</td>\n",
       "    </tr>\n",
       "    <tr>\n",
       "      <th>2996689</th>\n",
       "      <td>349368.29</td>\n",
       "      <td>5660043.29</td>\n",
       "      <td>44.66</td>\n",
       "      <td>POINT (6.849879279466168 51.07211231197208)</td>\n",
       "    </tr>\n",
       "    <tr>\n",
       "      <th>3380080</th>\n",
       "      <td>349421.56</td>\n",
       "      <td>5660981.82</td>\n",
       "      <td>39.52</td>\n",
       "      <td>POINT (6.850248145644074 51.08055996602521)</td>\n",
       "    </tr>\n",
       "  </tbody>\n",
       "</table>\n",
       "</div>"
      ],
      "text/plain": [
       "                 x           y      z  \\\n",
       "1600226  349195.21  5660117.82  43.65   \n",
       "2495302  349303.81  5660134.66  43.45   \n",
       "2591868  349316.16  5660047.95  44.98   \n",
       "2996689  349368.29  5660043.29  44.66   \n",
       "3380080  349421.56  5660981.82  39.52   \n",
       "\n",
       "                                            geometry  \n",
       "1600226  POINT (6.847379512541162 51.07273658910175)  \n",
       "2495302    POINT (6.84892150379186 51.0729164400414)  \n",
       "2591868  POINT (6.849133793883347 51.07214050269744)  \n",
       "2996689  POINT (6.849879279466168 51.07211231197208)  \n",
       "3380080  POINT (6.850248145644074 51.08055996602521)  "
      ]
     },
     "execution_count": 106,
     "metadata": {},
     "output_type": "execute_result"
    }
   ],
   "source": [
    "gdf.head()"
   ]
  },
  {
   "cell_type": "code",
   "execution_count": 107,
   "metadata": {},
   "outputs": [],
   "source": [
    "lat_q, lon_q = 51.078534, 6.844748\n",
    "query_point = shg.Point(lat_q, lon_q)"
   ]
  },
  {
   "cell_type": "code",
   "execution_count": 108,
   "metadata": {},
   "outputs": [],
   "source": [
    "# filter to 100m around query point first\n",
    "R = 50\n",
    "query_point_xy = shg.Point(to_utm_transformer.transform(lon_q, lat_q))\n",
    "query_region_xy = query_point_xy.buffer(R, resolution=16)\n",
    "query_region_wgs84 = sho.transform(to_wgs_84_transformer.transform, query_region_xy)"
   ]
  },
  {
   "cell_type": "code",
   "execution_count": 109,
   "metadata": {},
   "outputs": [],
   "source": [
    "gdf_query = gdf[gdf.intersects(query_region_wgs84)]"
   ]
  },
  {
   "cell_type": "code",
   "execution_count": 110,
   "metadata": {},
   "outputs": [
    {
     "data": {
      "text/plain": [
       "(330, 100000)"
      ]
     },
     "execution_count": 110,
     "metadata": {},
     "output_type": "execute_result"
    }
   ],
   "source": [
    "len(gdf_query), len(gdf)"
   ]
  },
  {
   "cell_type": "code",
   "execution_count": 111,
   "metadata": {},
   "outputs": [
    {
     "data": {
      "text/plain": [
       "<matplotlib.collections.PathCollection at 0x29709aa3390>"
      ]
     },
     "execution_count": 111,
     "metadata": {},
     "output_type": "execute_result"
    },
    {
     "data": {
      "image/png": "[encoded data removed]",
      "text/plain": [
       "<Figure size 720x720 with 1 Axes>"
      ]
     },
     "metadata": {
      "needs_background": "light"
     },
     "output_type": "display_data"
    }
   ],
   "source": [
    "plt.figure(figsize=(10,10))\n",
    "plt.scatter(gdf[\"x\"], gdf[\"y\"])\n",
    "plt.scatter(gdf_query[\"x\"], gdf_query[\"y\"])"
   ]
  },
  {
   "cell_type": "code",
   "execution_count": 112,
   "metadata": {},
   "outputs": [],
   "source": [
    "# get nearest point to the query point\n",
    "query_nearest_point = gdf_query.loc[gdf_query.distance(sh.geometry.Point(lon_q, lat_q)).idxmin()]"
   ]
  },
  {
   "cell_type": "markdown",
   "metadata": {},
   "source": [
    "This point is now the origin of the projected axis, so we have to remove the offset of other points"
   ]
  },
  {
   "cell_type": "code",
   "execution_count": 113,
   "metadata": {},
   "outputs": [
    {
     "data": {
      "text/plain": [
       "x                                               349027\n",
       "y                                          5.66077e+06\n",
       "z                                                43.96\n",
       "geometry    POINT (6.844715155488196 51.0785473324619)\n",
       "Name: 218721, dtype: object"
      ]
     },
     "execution_count": 113,
     "metadata": {},
     "output_type": "execute_result"
    }
   ],
   "source": [
    "query_nearest_point"
   ]
  },
  {
   "cell_type": "code",
   "execution_count": 114,
   "metadata": {},
   "outputs": [
    {
     "name": "stderr",
     "output_type": "stream",
     "text": [
      "c:\\users\\kopyt\\.virtualenvs\\height-map-jyag_ntc\\lib\\site-packages\\ipykernel_launcher.py:1: SettingWithCopyWarning: \n",
      "A value is trying to be set on a copy of a slice from a DataFrame.\n",
      "Try using .loc[row_indexer,col_indexer] = value instead\n",
      "\n",
      "See the caveats in the documentation: http://pandas.pydata.org/pandas-docs/stable/user_guide/indexing.html#returning-a-view-versus-a-copy\n",
      "  \"\"\"Entry point for launching an IPython kernel.\n",
      "c:\\users\\kopyt\\.virtualenvs\\height-map-jyag_ntc\\lib\\site-packages\\ipykernel_launcher.py:2: SettingWithCopyWarning: \n",
      "A value is trying to be set on a copy of a slice from a DataFrame.\n",
      "Try using .loc[row_indexer,col_indexer] = value instead\n",
      "\n",
      "See the caveats in the documentation: http://pandas.pydata.org/pandas-docs/stable/user_guide/indexing.html#returning-a-view-versus-a-copy\n",
      "  \n",
      "c:\\users\\kopyt\\.virtualenvs\\height-map-jyag_ntc\\lib\\site-packages\\ipykernel_launcher.py:3: SettingWithCopyWarning: \n",
      "A value is trying to be set on a copy of a slice from a DataFrame.\n",
      "Try using .loc[row_indexer,col_indexer] = value instead\n",
      "\n",
      "See the caveats in the documentation: http://pandas.pydata.org/pandas-docs/stable/user_guide/indexing.html#returning-a-view-versus-a-copy\n",
      "  This is separate from the ipykernel package so we can avoid doing imports until\n"
     ]
    }
   ],
   "source": [
    "gdf_query[\"x_proj\"] = gdf_query[\"x\"] - query_nearest_point[\"x\"]\n",
    "gdf_query[\"y_proj\"] = gdf_query[\"y\"] - query_nearest_point[\"y\"]\n",
    "gdf_query[\"z_proj\"] = gdf_query[\"z\"] - query_nearest_point[\"z\"]"
   ]
  },
  {
   "cell_type": "code",
   "execution_count": 115,
   "metadata": {},
   "outputs": [
    {
     "data": {
      "text/html": [
       "<div>\n",
       "<style scoped>\n",
       "    .dataframe tbody tr th:only-of-type {\n",
       "        vertical-align: middle;\n",
       "    }\n",
       "\n",
       "    .dataframe tbody tr th {\n",
       "        vertical-align: top;\n",
       "    }\n",
       "\n",
       "    .dataframe thead th {\n",
       "        text-align: right;\n",
       "    }\n",
       "</style>\n",
       "<table border=\"1\" class=\"dataframe\">\n",
       "  <thead>\n",
       "    <tr style=\"text-align: right;\">\n",
       "      <th></th>\n",
       "      <th>x</th>\n",
       "      <th>y</th>\n",
       "      <th>z</th>\n",
       "      <th>geometry</th>\n",
       "      <th>x_proj</th>\n",
       "      <th>y_proj</th>\n",
       "      <th>z_proj</th>\n",
       "    </tr>\n",
       "  </thead>\n",
       "  <tbody>\n",
       "    <tr>\n",
       "      <th>319753</th>\n",
       "      <td>349040.47</td>\n",
       "      <td>5660741.88</td>\n",
       "      <td>44.01</td>\n",
       "      <td>POINT (6.844911798816762 51.07830372202579)</td>\n",
       "      <td>12.98</td>\n",
       "      <td>-27.49</td>\n",
       "      <td>0.05</td>\n",
       "    </tr>\n",
       "    <tr>\n",
       "      <th>251094</th>\n",
       "      <td>349031.74</td>\n",
       "      <td>5660736.98</td>\n",
       "      <td>43.93</td>\n",
       "      <td>POINT (6.844789310897938 51.07825739376402)</td>\n",
       "      <td>4.25</td>\n",
       "      <td>-32.39</td>\n",
       "      <td>-0.03</td>\n",
       "    </tr>\n",
       "    <tr>\n",
       "      <th>213801</th>\n",
       "      <td>349026.83</td>\n",
       "      <td>5660795.96</td>\n",
       "      <td>44.01</td>\n",
       "      <td>POINT (6.844694634081661 51.0787860968225)</td>\n",
       "      <td>-0.66</td>\n",
       "      <td>26.59</td>\n",
       "      <td>0.05</td>\n",
       "    </tr>\n",
       "    <tr>\n",
       "      <th>203911</th>\n",
       "      <td>349025.53</td>\n",
       "      <td>5660771.65</td>\n",
       "      <td>43.95</td>\n",
       "      <td>POINT (6.844686243374827 51.07856730486521)</td>\n",
       "      <td>-1.96</td>\n",
       "      <td>2.28</td>\n",
       "      <td>-0.01</td>\n",
       "    </tr>\n",
       "    <tr>\n",
       "      <th>221078</th>\n",
       "      <td>349027.78</td>\n",
       "      <td>5660804.87</td>\n",
       "      <td>43.93</td>\n",
       "      <td>POINT (6.844704464455402 51.0788664121301)</td>\n",
       "      <td>0.29</td>\n",
       "      <td>35.50</td>\n",
       "      <td>-0.03</td>\n",
       "    </tr>\n",
       "  </tbody>\n",
       "</table>\n",
       "</div>"
      ],
      "text/plain": [
       "                x           y      z  \\\n",
       "319753  349040.47  5660741.88  44.01   \n",
       "251094  349031.74  5660736.98  43.93   \n",
       "213801  349026.83  5660795.96  44.01   \n",
       "203911  349025.53  5660771.65  43.95   \n",
       "221078  349027.78  5660804.87  43.93   \n",
       "\n",
       "                                           geometry  x_proj  y_proj  z_proj  \n",
       "319753  POINT (6.844911798816762 51.07830372202579)   12.98  -27.49    0.05  \n",
       "251094  POINT (6.844789310897938 51.07825739376402)    4.25  -32.39   -0.03  \n",
       "213801   POINT (6.844694634081661 51.0787860968225)   -0.66   26.59    0.05  \n",
       "203911  POINT (6.844686243374827 51.07856730486521)   -1.96    2.28   -0.01  \n",
       "221078   POINT (6.844704464455402 51.0788664121301)    0.29   35.50   -0.03  "
      ]
     },
     "execution_count": 115,
     "metadata": {},
     "output_type": "execute_result"
    }
   ],
   "source": [
    "gdf_query.head()"
   ]
  },
  {
   "cell_type": "markdown",
   "metadata": {},
   "source": [
    "## Sunstate"
   ]
  },
  {
   "cell_type": "code",
   "execution_count": 116,
   "metadata": {},
   "outputs": [],
   "source": [
    "query_time = datetime(2019, 7, 21, 9, 0, 0)"
   ]
  },
  {
   "cell_type": "code",
   "execution_count": 117,
   "metadata": {},
   "outputs": [
    {
     "name": "stdout",
     "output_type": "stream",
     "text": [
      "43.55304490574677 119.59839270773891\n"
     ]
    }
   ],
   "source": [
    "zen, azimuth = get_sun_state(lat_q, lon_q, query_time)\n",
    "print(zen, azimuth)"
   ]
  },
  {
   "cell_type": "code",
   "execution_count": 118,
   "metadata": {},
   "outputs": [],
   "source": [
    "P = gdf_query[[\"x_proj\", \"y_proj\", \"z_proj\"]].values"
   ]
  },
  {
   "cell_type": "code",
   "execution_count": 119,
   "metadata": {},
   "outputs": [],
   "source": [
    "R = project_sunray(P, zen, azimuth)"
   ]
  },
  {
   "cell_type": "code",
   "execution_count": 120,
   "metadata": {},
   "outputs": [],
   "source": [
    "# remove all points where z sunray < 0\n",
    "R = R[R[:, 2] >= 0]"
   ]
  },
  {
   "cell_type": "code",
   "execution_count": 121,
   "metadata": {},
   "outputs": [],
   "source": [
    "# now we only plot, y and z axis"
   ]
  },
  {
   "cell_type": "code",
   "execution_count": 122,
   "metadata": {},
   "outputs": [
    {
     "data": {
      "text/plain": [
       "<matplotlib.lines.Line2D at 0x29709a8ba58>"
      ]
     },
     "execution_count": 122,
     "metadata": {},
     "output_type": "execute_result"
    },
    {
     "data": {
      "image/png": "[encoded data removed]",
      "text/plain": [
       "<Figure size 1080x720 with 1 Axes>"
      ]
     },
     "metadata": {
      "needs_background": "light"
     },
     "output_type": "display_data"
    }
   ],
   "source": [
    "plt.figure(figsize=(15,10))\n",
    "plt.scatter(R[:, 1], R[:, 2])\n",
    "plt.scatter(0, 0, s=200, marker=\"+\")\n",
    "plt.axvline(-1, color=\"y\")\n",
    "plt.axvline(1, color=\"y\")"
   ]
  },
  {
   "cell_type": "code",
   "execution_count": null,
   "metadata": {},
   "outputs": [],
   "source": []
  }
 ],
 "metadata": {
  "kernelspec": {
   "display_name": "Python 3",
   "language": "python",
   "name": "python3"
  },
  "language_info": {
   "codemirror_mode": {
    "name": "ipython",
    "version": 3
   },
   "file_extension": ".py",
   "mimetype": "text/x-python",
   "name": "python",
   "nbconvert_exporter": "python",
   "pygments_lexer": "ipython3",
   "version": "3.7.3"
  }
 },
 "nbformat": 4,
 "nbformat_minor": 2
}
