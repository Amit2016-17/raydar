{
 "cells": [
  {
   "cell_type": "code",
   "execution_count": 1,
   "metadata": {},
   "outputs": [],
   "source": [
    "import numpy as np\n",
    "import pandas as pd\n",
    "import matplotlib.pyplot as plt"
   ]
  },
  {
   "cell_type": "markdown",
   "metadata": {},
   "source": [
    "# Overview\n",
    "\n",
    "## Basics\n",
    "\n",
    "We want to rotate the basic UTM xyz matrix in the direction of the sun ray given by $\\alpha_{az}$ (rotation y-axis) and $\\alpha_{el} = 90° - \\alpha_{z}$ (rotation z-axis).\n",
    "\n",
    "\n",
    "We use the right coordinate system:\n",
    "\n",
    "![coord](https://upload.wikimedia.org/wikipedia/commons/thumb/e/e2/Cartesian_coordinate_system_handedness.svg/1920px-Cartesian_coordinate_system_handedness.svg.png)"
   ]
  },
  {
   "cell_type": "markdown",
   "metadata": {},
   "source": [
    "## Rotation\n",
    "\n",
    "Rotation x-axis:\n",
    "\n",
    "$$\n",
    "R_x(\\alpha) = \\begin{pmatrix}\n",
    "1 &   0         & 0           \\\\\n",
    "0 & cos \\alpha & - sin \\alpha \\\\\n",
    "0 & sin \\alpha &  cos \\alpha \\end{pmatrix}\n",
    "$$"
   ]
  },
  {
   "cell_type": "code",
   "execution_count": 3,
   "metadata": {},
   "outputs": [],
   "source": [
    "def R_x(alpha):\n",
    "    return np.asarray([[1, 0, 0],[0, np.cos(alpha), -np.sin(alpha)],[0, np.sin(alpha), np.cos(alpha)]])"
   ]
  },
  {
   "cell_type": "markdown",
   "metadata": {},
   "source": [
    "Rotation y-axis:\n",
    "\n",
    "$$\n",
    "R_y(\\alpha) = \\begin{pmatrix}\n",
    "\\cos \\alpha  & 0 & \\sin \\alpha \\\\\n",
    "   0         & 1 &  0          \\\\\n",
    "-\\sin \\alpha & 0 & \\cos \\alpha\n",
    "\\end{pmatrix}\n",
    "$$"
   ]
  },
  {
   "cell_type": "code",
   "execution_count": 4,
   "metadata": {},
   "outputs": [],
   "source": [
    "def R_y(alpha):\n",
    "    return np.asarray([[np.cos(alpha), 0, np.sin(alpha)],[0, 1, 0],[-np.sin(alpha), 0, np.cos(alpha)]])"
   ]
  },
  {
   "cell_type": "markdown",
   "metadata": {},
   "source": [
    "Rotation z-axis:\n",
    "\n",
    "$$\n",
    "R_z(\\alpha) = \\begin{pmatrix}\n",
    "\\cos \\alpha & -\\sin \\alpha & 0 \\\\\n",
    "\\sin \\alpha &  \\cos \\alpha & 0 \\\\\n",
    "   0        &  0           & 1\n",
    "\\end{pmatrix}\n",
    "$$"
   ]
  },
  {
   "cell_type": "code",
   "execution_count": 6,
   "metadata": {},
   "outputs": [],
   "source": [
    "def R_z(alpha):\n",
    "    return np.asarray([[np.cos(alpha), -np.sin(alpha), 0], [np.sin(alpha), np.cos(alpha), 0],[0, 0, 1]])"
   ]
  },
  {
   "cell_type": "markdown",
   "metadata": {},
   "source": [
    "## Experiments\n",
    "\n",
    "![principle](assets/principle.png)\n",
    "\n",
    "Let's take a situation in the morning, $\\alpha_{az}= 45° = \\frac{\\pi}{4}$ and $\\alpha_{el}= arctan(\\frac{1}{\\sqrt{2}})$\n",
    "\n",
    "Rotating the axis in the direction of the arrow: multiplicate by $-1$, in other direction no change"
   ]
  },
  {
   "cell_type": "code",
   "execution_count": 45,
   "metadata": {},
   "outputs": [
    {
     "data": {
      "text/plain": [
       "array([[1],\n",
       "       [1],\n",
       "       [1]])"
      ]
     },
     "execution_count": 45,
     "metadata": {},
     "output_type": "execute_result"
    }
   ],
   "source": [
    "xp, yp, zp = 1, 1, 1\n",
    "P = np.asarray([[xp], [yp], [zp]]) # column vector\n",
    "P"
   ]
  },
  {
   "cell_type": "code",
   "execution_count": 50,
   "metadata": {},
   "outputs": [
    {
     "data": {
      "text/plain": [
       "array([[1.73205081],\n",
       "       [0.        ],\n",
       "       [0.        ]])"
      ]
     },
     "execution_count": 50,
     "metadata": {},
     "output_type": "execute_result"
    }
   ],
   "source": [
    "P_projected = R_y(np.arctan(1/np.sqrt(2))) @ R_z(-np.pi/4) @ P\n",
    "P_projected"
   ]
  },
  {
   "cell_type": "code",
   "execution_count": null,
   "metadata": {},
   "outputs": [],
   "source": []
  }
 ],
 "metadata": {
  "kernelspec": {
   "display_name": "Python 3",
   "language": "python",
   "name": "python3"
  },
  "language_info": {
   "codemirror_mode": {
    "name": "ipython",
    "version": 3
   },
   "file_extension": ".py",
   "mimetype": "text/x-python",
   "name": "python",
   "nbconvert_exporter": "python",
   "pygments_lexer": "ipython3",
   "version": "3.7.3"
  }
 },
 "nbformat": 4,
 "nbformat_minor": 2
}
